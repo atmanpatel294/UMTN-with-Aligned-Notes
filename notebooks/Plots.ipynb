{
 "cells": [
  {
   "cell_type": "code",
   "execution_count": 1,
   "metadata": {},
   "outputs": [],
   "source": [
    "# !python --version"
   ]
  },
  {
   "cell_type": "code",
   "execution_count": 2,
   "metadata": {},
   "outputs": [],
   "source": [
    "import os\n",
    "import re\n",
    "import numpy as np\n",
    "import matplotlib.pyplot as plt"
   ]
  },
  {
   "cell_type": "code",
   "execution_count": 12,
   "metadata": {},
   "outputs": [],
   "source": [
    "checkpoint = 'musicnet_maestro_multiple_decoders'\n",
    "checkpoint = 'cold_start_only_wav' "
   ]
  },
  {
   "cell_type": "code",
   "execution_count": 13,
   "metadata": {},
   "outputs": [],
   "source": [
    "log_file = open('../checkpoints/'+checkpoint+'/main_0.log', 'r')"
   ]
  },
  {
   "cell_type": "code",
   "execution_count": 14,
   "metadata": {},
   "outputs": [],
   "source": [
    "# print(log_file)"
   ]
  },
  {
   "cell_type": "code",
   "execution_count": 15,
   "metadata": {},
   "outputs": [],
   "source": [
    "# for line in log_file:\n",
    "#     print(line)"
   ]
  },
  {
   "cell_type": "code",
   "execution_count": 16,
   "metadata": {},
   "outputs": [],
   "source": [
    "# for line in log_file:\n",
    "#     if \"Train loss\" in line:\n",
    "#         print(line)"
   ]
  },
  {
   "cell_type": "code",
   "execution_count": 25,
   "metadata": {},
   "outputs": [],
   "source": [
    "train_losses = []\n",
    "test_losses = []\n",
    "epochs = []\n",
    "def extract_train_loss():\n",
    "    with open('../checkpoints/'+checkpoint+'/main_0.log', 'r') as f:\n",
    "        for line in f:\n",
    "            if \"Train loss\" in line:\n",
    "                epoch = line.strip().split('-')[3].strip().split(' ')[1]\n",
    "                print(line.strip().split('-')[4].strip())\n",
    "                losses = re.findall('\\([0-9\\., ]*\\)', line)\n",
    "                train_loss = losses[0]\n",
    "                test_loss = losses[1]\n",
    "                \n",
    "                train_loss = train_loss.strip().lstrip('(').rstrip(')')\n",
    "                train_loss = train_loss.split(', ')\n",
    "                train_loss = [float(l) for l in train_loss[:-1]]\n",
    "                train_loss = np.mean(train_loss)\n",
    "                \n",
    "                test_loss = test_loss.strip().lstrip('(').rstrip(')')\n",
    "                test_loss = test_loss.split(', ')\n",
    "#                 print(test_loss)\n",
    "                test_loss = [float(l) for l in test_loss[:-1]]\n",
    "#                 print(test_loss)\n",
    "                test_loss = np.mean(test_loss)\n",
    "                \n",
    "                epochs.append(int(epoch))\n",
    "                train_losses.append(train_loss)\n",
    "                test_losses.append(test_loss)\n",
    "#                 print(\"Epoch: \", epoch, \" train loss: \", train_loss, \"test_loss: \", test_loss)"
   ]
  },
  {
   "cell_type": "code",
   "execution_count": 26,
   "metadata": {},
   "outputs": [
    {
     "name": "stdout",
     "output_type": "stream",
     "text": [
      "Train loss: (4.5797, 4.4554, 4.8039, 4.8666, 4.2666, 4.2998, 0.0000), Test loss (3.9608, 3.4989, 3.9294, 4.3001, 3.9678, 4.0114, 0.1922)\n",
      "Train loss: (4.1220, 4.1079, 4.2998, 4.4179, 3.9372, 3.9612, 1.7663), Test loss (3.2048, 3.1799, 3.5499, 3.7874, 3.1733, 3.4220, 0.2430)\n",
      "Train loss: (3.1931, 3.1281, 3.5137, 3.8200, 3.0847, 3.1194, 1.6899), Test loss (2.7732, 2.6699, 3.1207, 3.7263, 2.6867, 2.8285, 0.2683)\n",
      "Train loss: (2.8895, 2.8024, 3.2761, 3.5305, 2.7367, 2.7814, 1.6727), Test loss (2.5757, 2.7164, 3.0102, 3.3935, 2.6355, 2.7275, 0.2843)\n",
      "Train loss: (2.7343, 2.6555, 3.1988, 3.4113, 2.5974, 2.6604, 1.6521), Test loss (2.4658, 2.4075, 3.0010, 3.2359, 2.5327, 2.6629, 0.3093)\n",
      "Train loss: (2.6018, 2.4909, 3.0192, 3.3437, 2.4661, 2.5213, 1.6353), Test loss (2.4960, 2.2963, 3.0167, 3.2187, 2.2038, 2.3253, 0.2887)\n",
      "Train loss: (2.5836, 2.4981, 3.0093, 3.3016, 2.4455, 2.5035, 1.6620), Test loss (2.4135, 2.1668, 2.7766, 3.1295, 2.2296, 2.4132, 0.3013)\n",
      "Train loss: (2.4840, 2.3494, 2.8970, 3.2166, 2.3204, 2.3941, 1.6413), Test loss (2.3260, 2.1073, 2.8351, 3.0534, 2.1296, 2.2651, 0.3037)\n",
      "Train loss: (2.4365, 2.2797, 2.8703, 3.1609, 2.2432, 2.3200, 1.6357), Test loss (2.2578, 2.1232, 2.8295, 3.0132, 2.1166, 2.2856, 0.2863)\n",
      "Train loss: (2.4527, 2.2425, 2.8123, 3.1453, 2.2037, 2.2923, 1.6395), Test loss (2.2559, 1.9743, 2.6024, 3.0413, 2.0669, 2.1992, 0.2810)\n",
      "Train loss: (2.3797, 2.2566, 2.8001, 3.1453, 2.1571, 2.2308, 1.6366), Test loss (2.3195, 2.0502, 2.6355, 3.1056, 1.9608, 2.0901, 0.3260)\n",
      "Train loss: (2.3373, 2.1431, 2.7834, 3.1167, 2.0991, 2.1889, 1.6158), Test loss (2.1454, 1.9645, 2.5801, 3.0070, 2.0124, 2.2165, 0.3267)\n",
      "Train loss: (2.3457, 2.2263, 2.7547, 3.1367, 2.1645, 2.2345, 1.6229), Test loss (2.1962, 1.9613, 2.6010, 3.0930, 2.1684, 2.2999, 0.3513)\n",
      "Train loss: (2.3176, 2.0899, 2.7231, 3.0549, 2.0540, 2.1507, 1.6109), Test loss (2.1130, 1.8774, 2.5772, 2.9465, 2.2202, 2.3481, 0.2950)\n",
      "Train loss: (2.2659, 2.0721, 2.6675, 3.0588, 2.0461, 2.1409, 1.6409), Test loss (2.1330, 1.8457, 2.4739, 2.9792, 1.9877, 2.1751, 0.2953)\n",
      "Train loss: (2.2724, 2.0758, 2.6713, 3.1299, 2.0531, 2.1391, 1.6286), Test loss (2.0919, 1.8661, 2.5479, 2.9927, 2.0807, 2.1993, 0.2967)\n",
      "Train loss: (2.2227, 2.0105, 2.6073, 3.0012, 1.9837, 2.0969, 1.6304), Test loss (2.1080, 1.8437, 2.5151, 2.9085, 1.8765, 2.0253, 0.3100)\n",
      "Train loss: (2.1999, 2.0077, 2.5835, 2.9741, 1.9639, 2.0759, 1.6299), Test loss (2.0266, 1.9191, 2.4308, 2.8959, 1.9783, 2.1698, 0.3057)\n",
      "Train loss: (2.1980, 1.9869, 2.5681, 2.9477, 1.9609, 2.0669, 1.6272), Test loss (2.0760, 1.9346, 2.4814, 2.8976, 1.7980, 1.9674, 0.3110)\n",
      "Train loss: (2.1972, 1.9952, 2.5971, 2.9667, 2.0113, 2.1014, 1.6244), Test loss (2.0965, 1.8157, 2.4723, 2.8517, 1.9309, 2.0425, 0.3593)\n",
      "Train loss: (2.1569, 1.9496, 2.5303, 2.9545, 1.9160, 2.0277, 1.5790), Test loss (2.0209, 1.7247, 2.3825, 2.8743, 1.8608, 1.9866, 0.3460)\n",
      "Train loss: (2.1680, 1.9340, 2.4888, 2.9397, 1.8974, 2.0108, 1.6051), Test loss (2.0795, 1.7765, 2.3720, 2.8187, 1.8020, 1.9310, 0.3063)\n",
      "Train loss: (2.1177, 1.9186, 2.4741, 2.8940, 1.8719, 1.9958, 1.6193), Test loss (2.1206, 1.7259, 2.3376, 2.8600, 1.7380, 1.9298, 0.3180)\n",
      "Train loss: (2.1206, 1.8830, 2.4803, 2.8987, 1.8571, 1.9860, 1.6106), Test loss (2.0095, 1.7967, 2.3478, 2.8887, 1.7709, 1.9545, 0.3207)\n",
      "Train loss: (2.1342, 1.9590, 2.5065, 2.8943, 1.9115, 2.0167, 1.6098), Test loss (2.0986, 1.8385, 2.4063, 2.8589, 1.8953, 2.0260, 0.3703)\n",
      "Train loss: (2.1031, 1.8603, 2.4511, 2.8668, 1.8320, 1.9697, 1.5562), Test loss (2.0009, 1.7062, 2.3227, 2.7924, 1.8108, 1.9601, 0.3500)\n",
      "Train loss: (2.0763, 1.8813, 2.4189, 2.8526, 1.8156, 1.9483, 1.5632), Test loss (2.0238, 1.6885, 2.3248, 2.7466, 1.9256, 2.0670, 0.3507)\n",
      "Train loss: (2.1078, 1.8797, 2.4826, 2.8911, 1.8718, 1.9988, 1.5644), Test loss (1.9489, 1.6906, 2.3906, 2.7276, 1.6535, 1.8503, 0.3557)\n",
      "Train loss: (2.0736, 1.8309, 2.4131, 2.8182, 1.8025, 1.9296, 1.5750), Test loss (1.9690, 1.6930, 2.2839, 2.7335, 1.8602, 2.0033, 0.3323)\n",
      "Train loss: (2.0522, 1.8278, 2.3952, 2.8667, 1.8034, 1.9342, 1.5688), Test loss (1.9632, 1.7251, 2.2801, 2.7609, 1.9125, 2.0654, 0.3570)\n",
      "Train loss: (2.0805, 1.8449, 2.4003, 2.8051, 1.7983, 1.9188, 1.5558), Test loss (1.9688, 1.6654, 2.2562, 2.7400, 1.8806, 1.9923, 0.3530)\n",
      "Train loss: (2.0281, 1.7820, 2.3708, 2.8024, 1.7693, 1.9025, 1.5431), Test loss (1.9608, 1.6621, 2.2601, 2.7199, 1.7198, 1.9043, 0.3670)\n",
      "Train loss: (2.0392, 1.7936, 2.3661, 2.8031, 1.7585, 1.8915, 1.5359), Test loss (1.9245, 1.6391, 2.2102, 2.7155, 1.6321, 1.7995, 0.3857)\n",
      "Train loss: (2.0497, 1.7885, 2.5199, 2.8061, 1.7732, 1.9003, 1.5382), Test loss (1.9342, 1.6917, 2.4476, 2.6593, 1.8316, 1.9806, 0.3997)\n",
      "Train loss: (2.0162, 1.7713, 2.3694, 2.7610, 1.7490, 1.8895, 1.5142), Test loss (1.9088, 1.6062, 2.2633, 2.6941, 1.6772, 1.8726, 0.3957)\n",
      "Train loss: (2.0139, 1.7916, 2.3436, 2.7696, 1.7377, 1.8697, 1.5265), Test loss (1.9627, 1.6279, 2.2422, 2.6701, 1.7020, 1.8443, 0.4193)\n",
      "Train loss: (1.9974, 1.7561, 2.3355, 2.7604, 1.7299, 1.8828, 1.5218), Test loss (1.9133, 1.6022, 2.2222, 2.6978, 1.7177, 1.9192, 0.4040)\n",
      "Train loss: (2.0047, 1.7632, 2.3293, 2.7584, 1.7181, 1.8558, 1.5107), Test loss (1.9350, 1.6001, 2.1870, 2.6592, 1.7083, 1.8678, 0.3993)\n",
      "Train loss: (2.0064, 1.7542, 2.3424, 2.7614, 1.7378, 1.8687, 1.4841), Test loss (1.9189, 1.6279, 2.2232, 2.7607, 1.7255, 1.9029, 0.4177)\n",
      "Train loss: (1.9951, 1.7161, 2.3052, 2.7219, 1.7053, 1.8581, 1.4904), Test loss (1.8876, 1.6295, 2.1943, 2.7647, 1.6994, 1.9009, 0.4047)\n",
      "Train loss: (1.9864, 1.7377, 2.3053, 2.7414, 1.6900, 1.8324, 1.4929), Test loss (1.9024, 1.6691, 2.2143, 2.6565, 1.7034, 1.8850, 0.4150)\n"
     ]
    }
   ],
   "source": [
    "extract_train_loss()"
   ]
  },
  {
   "cell_type": "code",
   "execution_count": 27,
   "metadata": {},
   "outputs": [],
   "source": [
    "# epoch"
   ]
  },
  {
   "cell_type": "code",
   "execution_count": 28,
   "metadata": {},
   "outputs": [
    {
     "data": {
      "image/png": "[encoded data removed]",
      "text/plain": [
       "<Figure size 432x288 with 1 Axes>"
      ]
     },
     "metadata": {
      "needs_background": "light"
     },
     "output_type": "display_data"
    }
   ],
   "source": [
    "plt.plot(epochs, train_losses, label='train')\n",
    "plt.plot(epochs, test_losses, label='test')\n",
    "plt.xlabel('epochs')\n",
    "plt.ylabel('loss')\n",
    "plt.legend()\n",
    "plt.show()"
   ]
  },
  {
   "cell_type": "code",
   "execution_count": null,
   "metadata": {},
   "outputs": [],
   "source": []
  },
  {
   "cell_type": "code",
   "execution_count": null,
   "metadata": {},
   "outputs": [],
   "source": []
  }
 ],
 "metadata": {
  "kernelspec": {
   "display_name": "Python 3",
   "language": "python",
   "name": "python3"
  },
  "language_info": {
   "codemirror_mode": {
    "name": "ipython",
    "version": 3
   },
   "file_extension": ".py",
   "mimetype": "text/x-python",
   "name": "python",
   "nbconvert_exporter": "python",
   "pygments_lexer": "ipython3",
   "version": "3.6.8"
  }
 },
 "nbformat": 4,
 "nbformat_minor": 4
}
